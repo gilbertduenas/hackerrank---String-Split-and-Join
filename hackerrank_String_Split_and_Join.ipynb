{
  "nbformat": 4,
  "nbformat_minor": 0,
  "metadata": {
    "colab": {
      "name": "hackerrank - String Split and Join",
      "provenance": [],
      "collapsed_sections": [],
      "authorship_tag": "ABX9TyMCel6injoLW4U34z+/u2PA",
      "include_colab_link": true
    },
    "kernelspec": {
      "name": "python3",
      "display_name": "Python 3"
    }
  },
  "cells": [
    {
      "cell_type": "markdown",
      "metadata": {
        "id": "view-in-github",
        "colab_type": "text"
      },
      "source": [
        "<a href=\"https://colab.research.google.com/github/gilbertduenas/hackerrank---String-Split-and-Join/blob/master/hackerrank_String_Split_and_Join.ipynb\" target=\"_parent\"><img src=\"https://colab.research.google.com/assets/colab-badge.svg\" alt=\"Open In Colab\"/></a>"
      ]
    },
    {
      "cell_type": "markdown",
      "metadata": {
        "id": "O6SQy5dbj2Pz",
        "colab_type": "text"
      },
      "source": [
        "https://www.hackerrank.com/challenges/python-string-split-and-join/problem"
      ]
    },
    {
      "cell_type": "code",
      "metadata": {
        "id": "8d_n1wAtjbqN",
        "colab_type": "code",
        "colab": {}
      },
      "source": [
        "def split_and_join(line):\n",
        "    return '-'.join(line.split())"
      ],
      "execution_count": null,
      "outputs": []
    },
    {
      "cell_type": "code",
      "metadata": {
        "id": "r9KdtEmJk1O2",
        "colab_type": "code",
        "colab": {}
      },
      "source": [
        "test = 'I am the very model of a modern major general.'"
      ],
      "execution_count": null,
      "outputs": []
    },
    {
      "cell_type": "code",
      "metadata": {
        "id": "CSheBXAQk6h5",
        "colab_type": "code",
        "colab": {
          "base_uri": "https://localhost:8080/",
          "height": 36
        },
        "outputId": "e336ff6d-ee9d-451f-871e-ef27812373f4"
      },
      "source": [
        "split_and_join(test)"
      ],
      "execution_count": null,
      "outputs": [
        {
          "output_type": "execute_result",
          "data": {
            "application/vnd.google.colaboratory.intrinsic": {
              "type": "string"
            },
            "text/plain": [
              "'I-am-the-very-model-of-a-modern-major-general.'"
            ]
          },
          "metadata": {
            "tags": []
          },
          "execution_count": 4
        }
      ]
    },
    {
      "cell_type": "code",
      "metadata": {
        "id": "k9T-Tr3klLmy",
        "colab_type": "code",
        "colab": {}
      },
      "source": [
        ""
      ],
      "execution_count": null,
      "outputs": []
    }
  ]
}